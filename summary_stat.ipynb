{
 "cells": [
  {
   "cell_type": "code",
   "execution_count": 2,
   "id": "2b550852",
   "metadata": {},
   "outputs": [],
   "source": [
    "import pandas as pd\n",
    "import os"
   ]
  },
  {
   "cell_type": "code",
   "execution_count": 3,
   "id": "5b981ecf",
   "metadata": {},
   "outputs": [],
   "source": [
    "def summarize_statistics(df, columns):\n",
    "    \"\"\"\n",
    "    Calculate descriptive statistics for multiple columns in a DataFrame.\n",
    "\n",
    "    Parameters:\n",
    "        df (pd.DataFrame): The input DataFrame containing the data.\n",
    "        columns (list): A list of column names for which statistics are calculated.\n",
    "\n",
    "    Returns:\n",
    "        pd.DataFrame: A summary DataFrame containing descriptive statistics for the specified columns.\n",
    "    \"\"\"\n",
    "    # Ensure the specified columns exist in the DataFrame\n",
    "    missing_cols = [col for col in columns if col not in df.columns]\n",
    "    if missing_cols:\n",
    "        raise ValueError(f\"The following columns are not in the DataFrame: {missing_cols}\")\n",
    "\n",
    "    # Initialize a dictionary to store statistics\n",
    "    stats_dict = {\n",
    "        \"mean\": [],\n",
    "        \"median\": [],\n",
    "        \"std\": [],\n",
    "        \"min\": [],\n",
    "        \"25%\": [],\n",
    "        \"50%\": [],\n",
    "        \"75%\": [],\n",
    "        \"max\": []\n",
    "    }\n",
    "\n",
    "    # Calculate statistics for each column\n",
    "    for col in columns:\n",
    "        stats = df[col].describe()\n",
    "        stats_dict[\"mean\"].append(stats[\"mean\"])\n",
    "        stats_dict[\"median\"].append(df[col].median())\n",
    "        stats_dict[\"std\"].append(df[col].std())\n",
    "        stats_dict[\"min\"].append(stats[\"min\"])\n",
    "        stats_dict[\"25%\"].append(stats[\"25%\"])\n",
    "        stats_dict[\"50%\"].append(stats[\"50%\"])\n",
    "        stats_dict[\"75%\"].append(stats[\"75%\"])\n",
    "        stats_dict[\"max\"].append(stats[\"max\"])\n",
    "\n",
    "    # Create a summary DataFrame\n",
    "    summary_df = pd.DataFrame(stats_dict, index=columns)\n",
    "    summary_df.index.name = \"Variable\"\n",
    "\n",
    "    return summary_df"
   ]
  },
  {
   "cell_type": "code",
   "execution_count": 4,
   "id": "dd2875ec",
   "metadata": {},
   "outputs": [],
   "source": [
    "data_path = os.path.join(\"data\", \"block_trade_with_greeks.pkl\")\n",
    "df = pd.read_pickle(data_path)"
   ]
  },
  {
   "cell_type": "code",
   "execution_count": 5,
   "id": "0a583ba2",
   "metadata": {},
   "outputs": [
    {
     "data": {
      "text/plain": [
       "Index(['id', 'index', 'date', 'date_unixtime', 'contract_size', 'action',\n",
       "       'contract_name', 'iv', 'premium', 'index_price', 'expiry', 'strike',\n",
       "       'type', 'current_date', 'time_to_maturity', 'risk_free_rate',\n",
       "       'unique_id', 'forward_price', 'Action_multiplier', 'total_premium',\n",
       "       'Delta', 'Gamma', 'Vega', 'Theta'],\n",
       "      dtype='object')"
      ]
     },
     "execution_count": 5,
     "metadata": {},
     "output_type": "execute_result"
    }
   ],
   "source": [
    "df.columns"
   ]
  },
  {
   "cell_type": "code",
   "execution_count": 7,
   "id": "f6f12753",
   "metadata": {},
   "outputs": [
    {
     "name": "stdout",
     "output_type": "stream",
     "text": [
      "Variable  contract_size  total_premium  time_to_maturity        Delta  \\\n",
      "mean          44.097681   3.775338e+03          0.117595     0.426740   \n",
      "median        25.000000  -3.254100e+01          0.049019     0.063457   \n",
      "std           77.517658   6.805667e+05          0.165138    30.034537   \n",
      "min            0.100000  -1.451001e+08          0.000004 -1949.944619   \n",
      "25%           12.500000  -2.165762e+04          0.019288    -6.816164   \n",
      "50%           25.000000  -3.254100e+01          0.049019     0.063457   \n",
      "75%           50.000000   2.561362e+04          0.141776     7.209121   \n",
      "max         3000.000000   1.361051e+08          1.019064  1594.734993   \n",
      "\n",
      "Variable     Gamma           Vega  \n",
      "mean      0.000198     173.823717  \n",
      "median   -0.000002      -0.156047  \n",
      "std       0.009256    7895.422678  \n",
      "min      -0.314616 -387749.474748  \n",
      "25%      -0.001286   -1005.221734  \n",
      "50%      -0.000002      -0.156047  \n",
      "75%       0.001489    1149.560947  \n",
      "max       0.404951  379024.188208  \n"
     ]
    }
   ],
   "source": [
    "columns_to_summarize = [\"contract_size\", \"total_premium\", \"time_to_maturity\", \"Delta\", \"Gamma\", \"Vega\"]\n",
    "summary = summarize_statistics(df, columns_to_summarize)\n",
    "print(summary.T)"
   ]
  },
  {
   "cell_type": "code",
   "execution_count": 9,
   "id": "48593ac8",
   "metadata": {},
   "outputs": [],
   "source": [
    "summary.T.to_csv(\"summary_stat.csv\", index=True)"
   ]
  },
  {
   "cell_type": "code",
   "execution_count": null,
   "id": "186ca686",
   "metadata": {},
   "outputs": [],
   "source": []
  }
 ],
 "metadata": {
  "kernelspec": {
   "display_name": "Python 3 (ipykernel)",
   "language": "python",
   "name": "python3"
  },
  "language_info": {
   "codemirror_mode": {
    "name": "ipython",
    "version": 3
   },
   "file_extension": ".py",
   "mimetype": "text/x-python",
   "name": "python",
   "nbconvert_exporter": "python",
   "pygments_lexer": "ipython3",
   "version": "3.11.5"
  }
 },
 "nbformat": 4,
 "nbformat_minor": 5
}
